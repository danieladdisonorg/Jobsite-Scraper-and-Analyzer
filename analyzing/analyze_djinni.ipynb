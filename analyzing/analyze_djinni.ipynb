{
 "cells": [
  {
   "cell_type": "code",
   "execution_count": 3,
   "id": "77cde8d6-7ba1-4a92-80df-28bfe517aa7f",
   "metadata": {},
   "outputs": [],
   "source": [
    "import pandas as pd\n",
    "import numpy as np"
   ]
  },
  {
   "cell_type": "code",
   "execution_count": 13,
   "id": "76d1603d-c16a-4c6e-ab2e-3e7b6b63dc47",
   "metadata": {},
   "outputs": [
    {
     "data": {
      "text/html": [
       "<div>\n",
       "<style scoped>\n",
       "    .dataframe tbody tr th:only-of-type {\n",
       "        vertical-align: middle;\n",
       "    }\n",
       "\n",
       "    .dataframe tbody tr th {\n",
       "        vertical-align: top;\n",
       "    }\n",
       "\n",
       "    .dataframe thead th {\n",
       "        text-align: right;\n",
       "    }\n",
       "</style>\n",
       "<table border=\"1\" class=\"dataframe\">\n",
       "  <thead>\n",
       "    <tr style=\"text-align: right;\">\n",
       "      <th></th>\n",
       "      <th>country</th>\n",
       "      <th>date</th>\n",
       "      <th>employment_type</th>\n",
       "      <th>num_applications</th>\n",
       "      <th>num_views</th>\n",
       "      <th>tools</th>\n",
       "      <th>year_of_exp</th>\n",
       "    </tr>\n",
       "  </thead>\n",
       "  <tbody>\n",
       "    <tr>\n",
       "      <th>0</th>\n",
       "      <td>['Poland', 'Hungary', 'Slovakia', 'Cyprus', 'T...</td>\n",
       "      <td>03.05.2024</td>\n",
       "      <td>['Office', 'Remote']</td>\n",
       "      <td>1</td>\n",
       "      <td>5</td>\n",
       "      <td>{'ChatGPT', 'NLP', 'Pandas', 'AI/LLM', 'Python...</td>\n",
       "      <td>3</td>\n",
       "    </tr>\n",
       "    <tr>\n",
       "      <th>1</th>\n",
       "      <td>['Ukraine']</td>\n",
       "      <td>03.05.2024</td>\n",
       "      <td>['Full Remote']</td>\n",
       "      <td>84</td>\n",
       "      <td>699</td>\n",
       "      <td>set()</td>\n",
       "      <td>2</td>\n",
       "    </tr>\n",
       "    <tr>\n",
       "      <th>2</th>\n",
       "      <td>['Relocate', 'Ukraine']</td>\n",
       "      <td>03.05.2024</td>\n",
       "      <td>['Full Remote']</td>\n",
       "      <td>3</td>\n",
       "      <td>13</td>\n",
       "      <td>{'Middle Front', 'Technology', 'SQLAlchemy', '...</td>\n",
       "      <td>3</td>\n",
       "    </tr>\n",
       "    <tr>\n",
       "      <th>3</th>\n",
       "      <td>['Ukraine']</td>\n",
       "      <td>03.05.2024</td>\n",
       "      <td>['Office Work']</td>\n",
       "      <td>37</td>\n",
       "      <td>142</td>\n",
       "      <td>{'JavaScript', 'Jest', 'Python APIs', 'React',...</td>\n",
       "      <td>2</td>\n",
       "    </tr>\n",
       "    <tr>\n",
       "      <th>4</th>\n",
       "      <td>['Australia', 'United States']</td>\n",
       "      <td>03.05.2024</td>\n",
       "      <td>['Full Remote']</td>\n",
       "      <td>17</td>\n",
       "      <td>48</td>\n",
       "      <td>{'CST/EST', 'Git', 'US Timezone', 'English', '...</td>\n",
       "      <td>3</td>\n",
       "    </tr>\n",
       "  </tbody>\n",
       "</table>\n",
       "</div>"
      ],
      "text/plain": [
       "                                             country        date  \\\n",
       "0  ['Poland', 'Hungary', 'Slovakia', 'Cyprus', 'T...  03.05.2024   \n",
       "1                                        ['Ukraine']  03.05.2024   \n",
       "2                            ['Relocate', 'Ukraine']  03.05.2024   \n",
       "3                                        ['Ukraine']  03.05.2024   \n",
       "4                     ['Australia', 'United States']  03.05.2024   \n",
       "\n",
       "        employment_type  num_applications  num_views  \\\n",
       "0  ['Office', 'Remote']                 1          5   \n",
       "1       ['Full Remote']                84        699   \n",
       "2       ['Full Remote']                 3         13   \n",
       "3       ['Office Work']                37        142   \n",
       "4       ['Full Remote']                17         48   \n",
       "\n",
       "                                               tools  year_of_exp  \n",
       "0  {'ChatGPT', 'NLP', 'Pandas', 'AI/LLM', 'Python...            3  \n",
       "1                                              set()            2  \n",
       "2  {'Middle Front', 'Technology', 'SQLAlchemy', '...            3  \n",
       "3  {'JavaScript', 'Jest', 'Python APIs', 'React',...            2  \n",
       "4  {'CST/EST', 'Git', 'US Timezone', 'English', '...            3  "
      ]
     },
     "execution_count": 13,
     "metadata": {},
     "output_type": "execute_result"
    }
   ],
   "source": [
    "# Perfrom Extracting\n",
    "df = pd.read_csv(\"../jobs.csv\")\n",
    "df.head()"
   ]
  },
  {
   "cell_type": "code",
   "execution_count": null,
   "id": "ffeeff6d-41f1-47db-9636-afd2c0959f05",
   "metadata": {},
   "outputs": [],
   "source": [
    "# Perfrom Cleaning\n"
   ]
  },
  {
   "cell_type": "code",
   "execution_count": null,
   "id": "284c540d-8532-499c-a7df-fac6a6bab828",
   "metadata": {},
   "outputs": [],
   "source": []
  },
  {
   "cell_type": "code",
   "execution_count": null,
   "id": "026799cc-3350-482a-aaa6-a433ff7e24fb",
   "metadata": {},
   "outputs": [],
   "source": []
  },
  {
   "cell_type": "code",
   "execution_count": null,
   "id": "f867e66d-2f42-4344-a015-1e0587c030f0",
   "metadata": {},
   "outputs": [],
   "source": []
  },
  {
   "cell_type": "code",
   "execution_count": null,
   "id": "bd6b025d-5013-41ac-9310-caf7229af3ed",
   "metadata": {},
   "outputs": [],
   "source": []
  },
  {
   "cell_type": "code",
   "execution_count": null,
   "id": "0d72c044-d52e-440d-9923-b2e3c2a0ef68",
   "metadata": {},
   "outputs": [],
   "source": []
  }
 ],
 "metadata": {
  "kernelspec": {
   "display_name": "Python 3 (ipykernel)",
   "language": "python",
   "name": "python3"
  },
  "language_info": {
   "codemirror_mode": {
    "name": "ipython",
    "version": 3
   },
   "file_extension": ".py",
   "mimetype": "text/x-python",
   "name": "python",
   "nbconvert_exporter": "python",
   "pygments_lexer": "ipython3",
   "version": "3.11.1"
  }
 },
 "nbformat": 4,
 "nbformat_minor": 5
}
