{
 "cells": [
  {
   "cell_type": "code",
   "execution_count": 2,
   "id": "77cde8d6-7ba1-4a92-80df-28bfe517aa7f",
   "metadata": {},
   "outputs": [],
   "source": [
    "import pandas as pd\n",
    "import numpy as np"
   ]
  },
  {
   "cell_type": "code",
   "execution_count": 3,
   "id": "76d1603d-c16a-4c6e-ab2e-3e7b6b63dc47",
   "metadata": {},
   "outputs": [
    {
     "name": "stdout",
     "output_type": "stream",
     "text": [
      "<class 'pandas.core.frame.DataFrame'>\n",
      "RangeIndex: 399 entries, 0 to 398\n",
      "Data columns (total 7 columns):\n",
      " #   Column            Non-Null Count  Dtype \n",
      "---  ------            --------------  ----- \n",
      " 0   country           399 non-null    object\n",
      " 1   date_time         399 non-null    object\n",
      " 2   employment_type   399 non-null    object\n",
      " 3   num_applications  399 non-null    int64 \n",
      " 4   num_views         399 non-null    int64 \n",
      " 5   tools             399 non-null    object\n",
      " 6   year_of_exp       399 non-null    int64 \n",
      "dtypes: int64(3), object(4)\n",
      "memory usage: 21.9+ KB\n"
     ]
    }
   ],
   "source": [
    "# Perfrom Extracting\n",
    "df = pd.read_csv(\"../jobs.csv\")\n",
    "df.info()"
   ]
  },
  {
   "cell_type": "code",
   "execution_count": 18,
   "id": "ffeeff6d-41f1-47db-9636-afd2c0959f05",
   "metadata": {},
   "outputs": [
    {
     "data": {
      "text/plain": [
       "0     [Azure Cloud Platform, API, ChatGPT, Git, NLP,...\n",
       "2     [Docker, React, Middle Front, Technology, Rabb...\n",
       "3     [React, SSR, DRY, CSS, Jest, Python APIs, Full...\n",
       "4          [Git, US Timezone, Python, English, CST/EST]\n",
       "5     [DevOps, Firestore, Google AppEngine, API, Rea...\n",
       "6                                     [IaC, Kubernetes]\n",
       "7     [MongoDB, Docker, GitHub CI, Full-Stack, Elast...\n",
       "8     [SQL, Data Analysis, Excel, Python, ETL, Power...\n",
       "9     [Tracking Data, Python, Vue, English, State Ma...\n",
       "10    [PostgreSQL, Data Management, SQL, Project, Re...\n",
       "11    [SQL, AWS, Python, Software Design, English, G...\n",
       "12    [PostgreSQL, Nginx, SQL, Docker, Git, HTML, CS...\n",
       "13    [Clickhouse, Gitlab CI\\CD, Server, Dbt, Scient...\n",
       "Name: tools, dtype: object"
      ]
     },
     "execution_count": 18,
     "metadata": {},
     "output_type": "execute_result"
    }
   ],
   "source": [
    "# Perfrom Cleaning, Wrangling\n",
    "\n",
    "# to safely evaluate a string containing a Python literal \n",
    "from ast import literal_eval\n",
    "\n",
    "# change year of exp to data type int8\n",
    "df[\"year_of_exp\"] = df[\"year_of_exp\"].astype(np.int8)\n",
    "\n",
    "# to datetime objects\n",
    "df[\"date_time\"] = pd.to_datetime(df[\"date_time\"], format=\"%H:%M %d.%m.%Y\")\n",
    "\n",
    "# remove rows where there is no tools\n",
    "df = df[df[\"tools\"] != \"[]\"]\n",
    "\n",
    "# convert string list tools column to list\n",
    "df.tools = df.tools.replace(\"\\\\\", \"/\")\n",
    "# df.tools = df.tools.apply(literal_eval)\n",
    "\n",
    "# df[\"tools\"].agg(sum)\n",
    "# df_exploded = df.explode(\"tools\")\n",
    "\n",
    "# Get unique tools from the exploded DataFrame\n",
    "# unique_tools = df_exploded[\"tools\"].unique()\n",
    "\n",
    "df.head(13).tools"
   ]
  },
  {
   "cell_type": "code",
   "execution_count": null,
   "id": "284c540d-8532-499c-a7df-fac6a6bab828",
   "metadata": {},
   "outputs": [],
   "source": [
    "s"
   ]
  },
  {
   "cell_type": "code",
   "execution_count": null,
   "id": "026799cc-3350-482a-aaa6-a433ff7e24fb",
   "metadata": {},
   "outputs": [],
   "source": []
  },
  {
   "cell_type": "code",
   "execution_count": null,
   "id": "f867e66d-2f42-4344-a015-1e0587c030f0",
   "metadata": {},
   "outputs": [],
   "source": []
  },
  {
   "cell_type": "code",
   "execution_count": null,
   "id": "bd6b025d-5013-41ac-9310-caf7229af3ed",
   "metadata": {},
   "outputs": [],
   "source": []
  },
  {
   "cell_type": "code",
   "execution_count": null,
   "id": "0d72c044-d52e-440d-9923-b2e3c2a0ef68",
   "metadata": {},
   "outputs": [],
   "source": []
  }
 ],
 "metadata": {
  "kernelspec": {
   "display_name": "Python 3 (ipykernel)",
   "language": "python",
   "name": "python3"
  },
  "language_info": {
   "codemirror_mode": {
    "name": "ipython",
    "version": 3
   },
   "file_extension": ".py",
   "mimetype": "text/x-python",
   "name": "python",
   "nbconvert_exporter": "python",
   "pygments_lexer": "ipython3",
   "version": "3.11.1"
  }
 },
 "nbformat": 4,
 "nbformat_minor": 5
}
