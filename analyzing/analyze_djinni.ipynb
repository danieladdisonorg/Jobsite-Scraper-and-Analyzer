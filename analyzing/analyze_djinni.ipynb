{
 "cells": [
  {
   "cell_type": "code",
   "execution_count": 1,
   "id": "77cde8d6-7ba1-4a92-80df-28bfe517aa7f",
   "metadata": {},
   "outputs": [],
   "source": [
    "import pandas as pd\n",
    "import numpy as np\n",
    "from ast import literal_eval\n"
   ]
  },
  {
   "cell_type": "code",
   "execution_count": 28,
   "id": "76d1603d-c16a-4c6e-ab2e-3e7b6b63dc47",
   "metadata": {},
   "outputs": [
    {
     "data": {
      "text/html": [
       "<div>\n",
       "<style scoped>\n",
       "    .dataframe tbody tr th:only-of-type {\n",
       "        vertical-align: middle;\n",
       "    }\n",
       "\n",
       "    .dataframe tbody tr th {\n",
       "        vertical-align: top;\n",
       "    }\n",
       "\n",
       "    .dataframe thead th {\n",
       "        text-align: right;\n",
       "    }\n",
       "</style>\n",
       "<table border=\"1\" class=\"dataframe\">\n",
       "  <thead>\n",
       "    <tr style=\"text-align: right;\">\n",
       "      <th></th>\n",
       "      <th>country</th>\n",
       "      <th>date_time</th>\n",
       "      <th>employment_type</th>\n",
       "      <th>num_applications</th>\n",
       "      <th>num_views</th>\n",
       "      <th>tools</th>\n",
       "      <th>year_of_exp</th>\n",
       "    </tr>\n",
       "  </thead>\n",
       "  <tbody>\n",
       "    <tr>\n",
       "      <th>0</th>\n",
       "      <td>['Ukraine', 'Portugal', 'Spain', 'Argentina', ...</td>\n",
       "      <td>18:30 06.05.2024</td>\n",
       "      <td>['Remote']</td>\n",
       "      <td>10</td>\n",
       "      <td>37</td>\n",
       "      <td>[Code, Native, IaC, Infrastructure, CD, Cloud]</td>\n",
       "      <td>5</td>\n",
       "    </tr>\n",
       "    <tr>\n",
       "      <th>1</th>\n",
       "      <td>['Ukraine']</td>\n",
       "      <td>18:16 06.05.2024</td>\n",
       "      <td>['Remote']</td>\n",
       "      <td>24</td>\n",
       "      <td>67</td>\n",
       "      <td>[Pika, SQLAlchemy, Celery Beat, AWS, Docker, P...</td>\n",
       "      <td>3</td>\n",
       "    </tr>\n",
       "    <tr>\n",
       "      <th>2</th>\n",
       "      <td>['Ukraine', 'Cyprus']</td>\n",
       "      <td>15:30 06.05.2024</td>\n",
       "      <td>['Remote']</td>\n",
       "      <td>2</td>\n",
       "      <td>19</td>\n",
       "      <td>[CAPTCHAs, Selenium, Redis, DDD, GCS, SSL, Pyt...</td>\n",
       "      <td>5</td>\n",
       "    </tr>\n",
       "    <tr>\n",
       "      <th>3</th>\n",
       "      <td>['Ukraine']</td>\n",
       "      <td>15:08 06.05.2024</td>\n",
       "      <td>['Office', 'Remote']</td>\n",
       "      <td>25</td>\n",
       "      <td>76</td>\n",
       "      <td>[CD, Linux, Git, Docker]</td>\n",
       "      <td>3</td>\n",
       "    </tr>\n",
       "    <tr>\n",
       "      <th>4</th>\n",
       "      <td>['Israel']</td>\n",
       "      <td>14:10 06.05.2024</td>\n",
       "      <td>['Remote']</td>\n",
       "      <td>22</td>\n",
       "      <td>219</td>\n",
       "      <td>[Async IO, Great, AWS, GCP, Auto, Azure, Quick...</td>\n",
       "      <td>5</td>\n",
       "    </tr>\n",
       "  </tbody>\n",
       "</table>\n",
       "</div>"
      ],
      "text/plain": [
       "                                             country         date_time  \\\n",
       "0  ['Ukraine', 'Portugal', 'Spain', 'Argentina', ...  18:30 06.05.2024   \n",
       "1                                        ['Ukraine']  18:16 06.05.2024   \n",
       "2                              ['Ukraine', 'Cyprus']  15:30 06.05.2024   \n",
       "3                                        ['Ukraine']  15:08 06.05.2024   \n",
       "4                                         ['Israel']  14:10 06.05.2024   \n",
       "\n",
       "        employment_type  num_applications  num_views  \\\n",
       "0            ['Remote']                10         37   \n",
       "1            ['Remote']                24         67   \n",
       "2            ['Remote']                 2         19   \n",
       "3  ['Office', 'Remote']                25         76   \n",
       "4            ['Remote']                22        219   \n",
       "\n",
       "                                               tools  year_of_exp  \n",
       "0     [Code, Native, IaC, Infrastructure, CD, Cloud]            5  \n",
       "1  [Pika, SQLAlchemy, Celery Beat, AWS, Docker, P...            3  \n",
       "2  [CAPTCHAs, Selenium, Redis, DDD, GCS, SSL, Pyt...            5  \n",
       "3                           [CD, Linux, Git, Docker]            3  \n",
       "4  [Async IO, Great, AWS, GCP, Auto, Azure, Quick...            5  "
      ]
     },
     "execution_count": 28,
     "metadata": {},
     "output_type": "execute_result"
    }
   ],
   "source": [
    "# Perfrom Extracting\n",
    "# and convert column tools from string to list\n",
    "df = pd.read_csv(\"../jobs.csv\", converters={'tools': literal_eval})\n",
    "df.head()"
   ]
  },
  {
   "cell_type": "code",
   "execution_count": 33,
   "id": "ffeeff6d-41f1-47db-9636-afd2c0959f05",
   "metadata": {},
   "outputs": [],
   "source": [
    "# Perfrom Cleaning, Wrangling\n",
    "\n",
    "# change year of exp to data type int8\n",
    "df.loc[:, \"year_of_exp\"] = df.year_of_exp.astype(np.int8)\n",
    "\n",
    "# to datetime objects\n",
    "df.loc[:, \"date_time\"] = pd.to_datetime(df.date_time, format=\"%H:%M %d.%m.%Y\")\n",
    "\n",
    "# remove rows where there is no tools\n",
    "df = df[df.tools.astype(bool)]\n",
    "\n",
    "tools = pd.DataFrame({\"tools\":df.tools.agg(\"sum\")})\n",
    "\n",
    "# remove duplicates such as \"REST\" and \"RESTful\"\n",
    "# is same and we should give counts of occurrences to \"REST\"\n",
    "\n",
    "\n",
    "tools.value_counts().to_csv(\"tools1.csv\")\n",
    "\n",
    "# df_exploded = df.explode(\"tools\")\n",
    "\n",
    "# Get unique tools from the exploded DataFrame\n",
    "# unique_tools = df_exploded[\"tools\"].unique()\n",
    "# df.info()\n",
    "# df_exploded"
   ]
  },
  {
   "cell_type": "code",
   "execution_count": null,
   "id": "284c540d-8532-499c-a7df-fac6a6bab828",
   "metadata": {},
   "outputs": [],
   "source": [
    "s"
   ]
  },
  {
   "cell_type": "code",
   "execution_count": null,
   "id": "026799cc-3350-482a-aaa6-a433ff7e24fb",
   "metadata": {},
   "outputs": [],
   "source": []
  },
  {
   "cell_type": "code",
   "execution_count": null,
   "id": "f867e66d-2f42-4344-a015-1e0587c030f0",
   "metadata": {},
   "outputs": [],
   "source": []
  },
  {
   "cell_type": "code",
   "execution_count": null,
   "id": "bd6b025d-5013-41ac-9310-caf7229af3ed",
   "metadata": {},
   "outputs": [],
   "source": []
  },
  {
   "cell_type": "code",
   "execution_count": null,
   "id": "0d72c044-d52e-440d-9923-b2e3c2a0ef68",
   "metadata": {},
   "outputs": [],
   "source": []
  }
 ],
 "metadata": {
  "kernelspec": {
   "display_name": "Python 3 (ipykernel)",
   "language": "python",
   "name": "python3"
  },
  "language_info": {
   "codemirror_mode": {
    "name": "ipython",
    "version": 3
   },
   "file_extension": ".py",
   "mimetype": "text/x-python",
   "name": "python",
   "nbconvert_exporter": "python",
   "pygments_lexer": "ipython3",
   "version": "3.11.1"
  }
 },
 "nbformat": 4,
 "nbformat_minor": 5
}
