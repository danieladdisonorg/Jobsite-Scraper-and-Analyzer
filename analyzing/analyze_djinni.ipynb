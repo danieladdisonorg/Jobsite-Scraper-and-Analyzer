{
 "cells": [
  {
   "cell_type": "code",
   "execution_count": 5,
   "id": "77cde8d6-7ba1-4a92-80df-28bfe517aa7f",
   "metadata": {},
   "outputs": [],
   "source": [
    "import pandas as pd\n",
    "import numpy as np\n",
    "from ast import literal_eval\n"
   ]
  },
  {
   "cell_type": "code",
   "execution_count": 21,
   "id": "76d1603d-c16a-4c6e-ab2e-3e7b6b63dc47",
   "metadata": {},
   "outputs": [],
   "source": [
    "# Perfrom Extracting\n",
    "# and convert column tools from string to list\n",
    "df = pd.read_csv(\"../jobs.csv\", converters={'tools': literal_eval})"
   ]
  },
  {
   "cell_type": "code",
   "execution_count": 34,
   "id": "ffeeff6d-41f1-47db-9636-afd2c0959f05",
   "metadata": {},
   "outputs": [
    {
     "ename": "TypeError",
     "evalue": "Series.notnull() takes 1 positional argument but 2 were given",
     "output_type": "error",
     "traceback": [
      "\u001b[1;31m---------------------------------------------------------------------------\u001b[0m",
      "\u001b[1;31mTypeError\u001b[0m                                 Traceback (most recent call last)",
      "Cell \u001b[1;32mIn[34], line 12\u001b[0m\n\u001b[0;32m      9\u001b[0m df\u001b[38;5;241m.\u001b[39mloc[:, \u001b[38;5;124m\"\u001b[39m\u001b[38;5;124mdate_time\u001b[39m\u001b[38;5;124m\"\u001b[39m] \u001b[38;5;241m=\u001b[39m pd\u001b[38;5;241m.\u001b[39mto_datetime(df\u001b[38;5;241m.\u001b[39mdate_time, \u001b[38;5;28mformat\u001b[39m\u001b[38;5;241m=\u001b[39m\u001b[38;5;124m\"\u001b[39m\u001b[38;5;124m%\u001b[39m\u001b[38;5;124mH:\u001b[39m\u001b[38;5;124m%\u001b[39m\u001b[38;5;124mM \u001b[39m\u001b[38;5;132;01m%d\u001b[39;00m\u001b[38;5;124m.\u001b[39m\u001b[38;5;124m%\u001b[39m\u001b[38;5;124mm.\u001b[39m\u001b[38;5;124m%\u001b[39m\u001b[38;5;124mY\u001b[39m\u001b[38;5;124m\"\u001b[39m)\n\u001b[0;32m     11\u001b[0m \u001b[38;5;66;03m# remove rows where there is no tools and drop duplicates\u001b[39;00m\n\u001b[1;32m---> 12\u001b[0m \u001b[43mdf\u001b[49m\u001b[43m[\u001b[49m\u001b[43mdf\u001b[49m\u001b[38;5;241;43m.\u001b[39;49m\u001b[43mtools\u001b[49m\u001b[38;5;241;43m.\u001b[39;49m\u001b[43mnotnull\u001b[49m\u001b[43m]\u001b[49m\n\u001b[0;32m     13\u001b[0m \u001b[38;5;66;03m# df[\"tools\"] = df.tools.drop() \u001b[39;00m\n\u001b[0;32m     14\u001b[0m df\u001b[38;5;241m.\u001b[39mto_csv(\u001b[38;5;124m\"\u001b[39m\u001b[38;5;124mtools2.csv\u001b[39m\u001b[38;5;124m\"\u001b[39m)\n",
      "File \u001b[1;32m~\\Projects\\scraping_analyzing_djinni\\venv\\Lib\\site-packages\\pandas\\core\\frame.py:4065\u001b[0m, in \u001b[0;36mDataFrame.__getitem__\u001b[1;34m(self, key)\u001b[0m\n\u001b[0;32m   4063\u001b[0m check_dict_or_set_indexers(key)\n\u001b[0;32m   4064\u001b[0m key \u001b[38;5;241m=\u001b[39m lib\u001b[38;5;241m.\u001b[39mitem_from_zerodim(key)\n\u001b[1;32m-> 4065\u001b[0m key \u001b[38;5;241m=\u001b[39m \u001b[43mcom\u001b[49m\u001b[38;5;241;43m.\u001b[39;49m\u001b[43mapply_if_callable\u001b[49m\u001b[43m(\u001b[49m\u001b[43mkey\u001b[49m\u001b[43m,\u001b[49m\u001b[43m \u001b[49m\u001b[38;5;28;43mself\u001b[39;49m\u001b[43m)\u001b[49m\n\u001b[0;32m   4067\u001b[0m \u001b[38;5;28;01mif\u001b[39;00m is_hashable(key) \u001b[38;5;129;01mand\u001b[39;00m \u001b[38;5;129;01mnot\u001b[39;00m is_iterator(key):\n\u001b[0;32m   4068\u001b[0m     \u001b[38;5;66;03m# is_iterator to exclude generator e.g. test_getitem_listlike\u001b[39;00m\n\u001b[0;32m   4069\u001b[0m     \u001b[38;5;66;03m# shortcut if the key is in columns\u001b[39;00m\n\u001b[0;32m   4070\u001b[0m     is_mi \u001b[38;5;241m=\u001b[39m \u001b[38;5;28misinstance\u001b[39m(\u001b[38;5;28mself\u001b[39m\u001b[38;5;241m.\u001b[39mcolumns, MultiIndex)\n",
      "File \u001b[1;32m~\\Projects\\scraping_analyzing_djinni\\venv\\Lib\\site-packages\\pandas\\core\\common.py:384\u001b[0m, in \u001b[0;36mapply_if_callable\u001b[1;34m(maybe_callable, obj, **kwargs)\u001b[0m\n\u001b[0;32m    373\u001b[0m \u001b[38;5;250m\u001b[39m\u001b[38;5;124;03m\"\"\"\u001b[39;00m\n\u001b[0;32m    374\u001b[0m \u001b[38;5;124;03mEvaluate possibly callable input using obj and kwargs if it is callable,\u001b[39;00m\n\u001b[0;32m    375\u001b[0m \u001b[38;5;124;03motherwise return as it is.\u001b[39;00m\n\u001b[1;32m   (...)\u001b[0m\n\u001b[0;32m    381\u001b[0m \u001b[38;5;124;03m**kwargs\u001b[39;00m\n\u001b[0;32m    382\u001b[0m \u001b[38;5;124;03m\"\"\"\u001b[39;00m\n\u001b[0;32m    383\u001b[0m \u001b[38;5;28;01mif\u001b[39;00m \u001b[38;5;28mcallable\u001b[39m(maybe_callable):\n\u001b[1;32m--> 384\u001b[0m     \u001b[38;5;28;01mreturn\u001b[39;00m \u001b[43mmaybe_callable\u001b[49m\u001b[43m(\u001b[49m\u001b[43mobj\u001b[49m\u001b[43m,\u001b[49m\u001b[43m \u001b[49m\u001b[38;5;241;43m*\u001b[39;49m\u001b[38;5;241;43m*\u001b[39;49m\u001b[43mkwargs\u001b[49m\u001b[43m)\u001b[49m\n\u001b[0;32m    386\u001b[0m \u001b[38;5;28;01mreturn\u001b[39;00m maybe_callable\n",
      "\u001b[1;31mTypeError\u001b[0m: Series.notnull() takes 1 positional argument but 2 were given"
     ]
    }
   ],
   "source": [
    "# Perfrom Cleaning, Wrangling\n",
    "\n",
    "# to safely evaluate a string containing a Python literal \n",
    "\n",
    "# change year of exp to data type int8\n",
    "df.loc[:, \"year_of_exp\"] = df.year_of_exp.astype(np.int8)\n",
    "\n",
    "# to datetime objects\n",
    "df.loc[:, \"date_time\"] = pd.to_datetime(df.date_time, format=\"%H:%M %d.%m.%Y\")\n",
    "\n",
    "# remove rows where there is no tools and drop duplicates\n",
    "df[df.tools.notnull]\n",
    "# df[\"tools\"] = df.tools.drop() \n",
    "df.to_csv(\"tools2.csv\")\n",
    "df.info()\n",
    "# tools = pd.DataFrame({\"tools\":df[\"tools\"].agg(\"sum\")})\n",
    "# tools.value_counts().to_csv(\"tools.csv\")\n",
    "\n",
    "# df_exploded = df.explode(\"tools\")\n",
    "\n",
    "# Get unique tools from the exploded DataFrame\n",
    "# unique_tools = df_exploded[\"tools\"].unique()\n",
    "# df.info()\n",
    "# df_exploded"
   ]
  },
  {
   "cell_type": "code",
   "execution_count": null,
   "id": "284c540d-8532-499c-a7df-fac6a6bab828",
   "metadata": {},
   "outputs": [],
   "source": [
    "s"
   ]
  },
  {
   "cell_type": "code",
   "execution_count": null,
   "id": "026799cc-3350-482a-aaa6-a433ff7e24fb",
   "metadata": {},
   "outputs": [],
   "source": []
  },
  {
   "cell_type": "code",
   "execution_count": null,
   "id": "f867e66d-2f42-4344-a015-1e0587c030f0",
   "metadata": {},
   "outputs": [],
   "source": []
  },
  {
   "cell_type": "code",
   "execution_count": null,
   "id": "bd6b025d-5013-41ac-9310-caf7229af3ed",
   "metadata": {},
   "outputs": [],
   "source": []
  },
  {
   "cell_type": "code",
   "execution_count": null,
   "id": "0d72c044-d52e-440d-9923-b2e3c2a0ef68",
   "metadata": {},
   "outputs": [],
   "source": []
  }
 ],
 "metadata": {
  "kernelspec": {
   "display_name": "Python 3 (ipykernel)",
   "language": "python",
   "name": "python3"
  },
  "language_info": {
   "codemirror_mode": {
    "name": "ipython",
    "version": 3
   },
   "file_extension": ".py",
   "mimetype": "text/x-python",
   "name": "python",
   "nbconvert_exporter": "python",
   "pygments_lexer": "ipython3",
   "version": "3.11.1"
  }
 },
 "nbformat": 4,
 "nbformat_minor": 5
}
