{
 "cells": [
  {
   "cell_type": "code",
   "execution_count": 1,
   "id": "77cde8d6-7ba1-4a92-80df-28bfe517aa7f",
   "metadata": {},
   "outputs": [],
   "source": [
    "import pandas as pd\n",
    "import numpy as np"
   ]
  },
  {
   "cell_type": "code",
   "execution_count": 9,
   "id": "76d1603d-c16a-4c6e-ab2e-3e7b6b63dc47",
   "metadata": {},
   "outputs": [
    {
     "data": {
      "text/plain": [
       "list"
      ]
     },
     "execution_count": 9,
     "metadata": {},
     "output_type": "execute_result"
    }
   ],
   "source": [
    "# Perfrom Extracting\n",
    "# and convert column tools from string to list\n",
    "df = pd.read_csv(\"../jobs.csv\", converters={'tools': literal_eval})"
   ]
  },
  {
   "cell_type": "code",
   "execution_count": 61,
   "id": "ffeeff6d-41f1-47db-9636-afd2c0959f05",
   "metadata": {},
   "outputs": [],
   "source": [
    "# Perfrom Cleaning, Wrangling\n",
    "\n",
    "# to safely evaluate a string containing a Python literal \n",
    "from ast import literal_eval\n",
    "\n",
    "# change year of exp to data type int8\n",
    "df.loc[:, \"year_of_exp\"] = df[\"year_of_exp\"].astype(np.int8)\n",
    "\n",
    "# to datetime objects\n",
    "df.loc[:, \"date_time\"] = pd.to_datetime(df[\"date_time\"], format=\"%H:%M %d.%m.%Y\")\n",
    "\n",
    "# remove rows where there is no tools\n",
    "df.loc[:, \"tools\"] = df[df.astype(str)[\"tools\"] != \"[]\"]\n",
    "\n",
    "tools = pd.DataFrame({\"tools\":df[\"tools\"].agg(\"sum\")})\n",
    "tools.value_counts().to_csv(\"tools.csv\")\n",
    "\n",
    "# df_exploded = df.explode(\"tools\")\n",
    "\n",
    "# Get unique tools from the exploded DataFrame\n",
    "# unique_tools = df_exploded[\"tools\"].unique()\n",
    "# df.info()\n",
    "# df_exploded"
   ]
  },
  {
   "cell_type": "code",
   "execution_count": null,
   "id": "284c540d-8532-499c-a7df-fac6a6bab828",
   "metadata": {},
   "outputs": [],
   "source": [
    "s"
   ]
  },
  {
   "cell_type": "code",
   "execution_count": null,
   "id": "026799cc-3350-482a-aaa6-a433ff7e24fb",
   "metadata": {},
   "outputs": [],
   "source": []
  },
  {
   "cell_type": "code",
   "execution_count": null,
   "id": "f867e66d-2f42-4344-a015-1e0587c030f0",
   "metadata": {},
   "outputs": [],
   "source": []
  },
  {
   "cell_type": "code",
   "execution_count": null,
   "id": "bd6b025d-5013-41ac-9310-caf7229af3ed",
   "metadata": {},
   "outputs": [],
   "source": []
  },
  {
   "cell_type": "code",
   "execution_count": null,
   "id": "0d72c044-d52e-440d-9923-b2e3c2a0ef68",
   "metadata": {},
   "outputs": [],
   "source": []
  }
 ],
 "metadata": {
  "kernelspec": {
   "display_name": "Python 3 (ipykernel)",
   "language": "python",
   "name": "python3"
  },
  "language_info": {
   "codemirror_mode": {
    "name": "ipython",
    "version": 3
   },
   "file_extension": ".py",
   "mimetype": "text/x-python",
   "name": "python",
   "nbconvert_exporter": "python",
   "pygments_lexer": "ipython3",
   "version": "3.11.1"
  }
 },
 "nbformat": 4,
 "nbformat_minor": 5
}
